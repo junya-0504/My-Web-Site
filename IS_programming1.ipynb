{
  "nbformat": 4,
  "nbformat_minor": 0,
  "metadata": {
    "colab": {
      "name": "IS-programming1.ipynb",
      "provenance": [],
      "collapsed_sections": [],
      "include_colab_link": true
    },
    "kernelspec": {
      "name": "python3",
      "display_name": "Python 3"
    }
  },
  "cells": [
    {
      "cell_type": "markdown",
      "metadata": {
        "id": "view-in-github",
        "colab_type": "text"
      },
      "source": [
        "<a href=\"https://colab.research.google.com/github/junya-0504/homepage/blob/master/IS_programming1.ipynb\" target=\"_parent\"><img src=\"https://colab.research.google.com/assets/colab-badge.svg\" alt=\"Open In Colab\"/></a>"
      ]
    },
    {
      "cell_type": "markdown",
      "metadata": {
        "id": "UEJBilI6XcwU"
      },
      "source": [
        "#3. An Informal Introduction to Python\n",
        "> Quoted from <https://docs.python.org/3/tutorial/introduction.html> view original pages for detail. (Japanese version available): \n",
        "\n",
        "----\n",
        "Comments\n",
        "\n",
        "Comments in Python start with the hash character,?#, and extend to the end of the physical line. A comment may appear at the start of a line or following whitespace or code, but not within a string literal. A hash character within a string literal is just a hash character. Since comments are to clarify code and are not interpreted by Python, they may be omitted when typing in examples.\n",
        "Some examples:\n",
        "```\n",
        "# this is the first comment\n",
        "spam = 1  # and this is the second comment\n",
        "          # ... and now a third!\n",
        "text = \"# This is not a comment because it's inside quotes.\" \n",
        "```"
      ]
    },
    {
      "cell_type": "markdown",
      "metadata": {
        "id": "inka6tDSYARV"
      },
      "source": [
        "## 3.1. Using Python as a Calculator\n",
        "Let’s try some simple Python commands. Start the interpreter and wait for the primary prompt, >>>. (It shouldn’t take long.)\n",
        "\n",
        "###3.1.1. Numbers\n",
        "The interpreter acts as a simple calculator: you can type an expression at it and it will write the value. Expression syntax is straightforward: the operators +, -, * and / work just like in most other languages (for example, Pascal or C); parentheses (()) can be used for grouping. For example:"
      ]
    },
    {
      "cell_type": "code",
      "metadata": {
        "id": "8HFchn4fakwE",
        "colab": {
          "base_uri": "https://localhost:8080/"
        },
        "outputId": "32996419-eef1-4a2e-ac23-3180db2f9fdf"
      },
      "source": [
        "2 + 2"
      ],
      "execution_count": 1,
      "outputs": [
        {
          "output_type": "execute_result",
          "data": {
            "text/plain": [
              "4"
            ]
          },
          "metadata": {},
          "execution_count": 1
        }
      ]
    },
    {
      "cell_type": "code",
      "metadata": {
        "id": "vmmqp9k2akQm",
        "colab": {
          "base_uri": "https://localhost:8080/"
        },
        "outputId": "708a08d4-95be-4c55-ead1-6a90c992050e"
      },
      "source": [
        "50 - 5*6"
      ],
      "execution_count": 3,
      "outputs": [
        {
          "output_type": "execute_result",
          "data": {
            "text/plain": [
              "20"
            ]
          },
          "metadata": {},
          "execution_count": 3
        }
      ]
    },
    {
      "cell_type": "code",
      "metadata": {
        "id": "nMQE8NNYaj6U",
        "colab": {
          "base_uri": "https://localhost:8080/"
        },
        "outputId": "56a8fd7a-4fca-480b-d9ab-1fc438e52beb"
      },
      "source": [
        "(50 - 5*6) / 4"
      ],
      "execution_count": 4,
      "outputs": [
        {
          "output_type": "execute_result",
          "data": {
            "text/plain": [
              "5.0"
            ]
          },
          "metadata": {},
          "execution_count": 4
        }
      ]
    },
    {
      "cell_type": "code",
      "metadata": {
        "id": "OXNYZMMUZVj4",
        "colab": {
          "base_uri": "https://localhost:8080/"
        },
        "outputId": "79255730-3635-4fbc-dfbe-f58596470597"
      },
      "source": [
        "8 / 5  # division always returns a floating point number"
      ],
      "execution_count": 5,
      "outputs": [
        {
          "output_type": "execute_result",
          "data": {
            "text/plain": [
              "1.6"
            ]
          },
          "metadata": {},
          "execution_count": 5
        }
      ]
    },
    {
      "cell_type": "markdown",
      "metadata": {
        "id": "sl8HUhnQaHwY"
      },
      "source": [
        "The integer numbers (e.g. 2, 4, 20) have type int, the ones with a fractional part (e.g. 5.0, 1.6) have type float. We will see more about numeric types later in the tutorial.\n",
        "\n",
        "Division (/) always returns a float. To do floor division and get an integer result (discarding any fractional result) you can use the // operator; to calculate the remainder you can use %:\n"
      ]
    },
    {
      "cell_type": "code",
      "metadata": {
        "id": "BlwUMTpdbG3e",
        "colab": {
          "base_uri": "https://localhost:8080/"
        },
        "outputId": "65c7d207-d5cf-4526-a4ca-fa849387a1cc"
      },
      "source": [
        "print(17 / 3)  # classic division returns a float\n",
        "\n",
        "print(17 // 3)  # floor division discards the fractional part\n",
        "\n",
        "print(17 % 3)  # the % operator returns the remainder of the division"
      ],
      "execution_count": 6,
      "outputs": [
        {
          "output_type": "stream",
          "name": "stdout",
          "text": [
            "5.666666666666667\n",
            "5\n",
            "2\n"
          ]
        }
      ]
    },
    {
      "cell_type": "markdown",
      "metadata": {
        "id": "r8x49PsDbLlM"
      },
      "source": [
        "### 3.1.2. Strings\n",
        "Besides numbers, Python can also manipulate strings, which can be expressed in several ways. They can be enclosed in single quotes ('...') or double quotes (\"...\") with the same **results**. \\ can be used to escape quotes:\n",
        "\n",
        "\n"
      ]
    },
    {
      "cell_type": "code",
      "metadata": {
        "id": "yG-9AihUhlqd",
        "colab": {
          "base_uri": "https://localhost:8080/"
        },
        "outputId": "1181dc25-1c67-4a79-dfbc-a510502926bd"
      },
      "source": [
        "print( 'spam eggs' ) # single quotes\n",
        "\n",
        "print( 'doesn\\'t' ) # use \\' to escape the single quote...\n",
        "\n",
        "print( \"doesn't\" ) # ...or use double quotes instead\n",
        "\n",
        "print( '\"Yes,\" they said.')\n",
        "\n",
        "print( \"\\\"Yes,\\\" they said.\")\n",
        "\n",
        "print( '\"Isn\\'t,\" they said.')"
      ],
      "execution_count": 7,
      "outputs": [
        {
          "output_type": "stream",
          "name": "stdout",
          "text": [
            "spam eggs\n",
            "doesn't\n",
            "doesn't\n",
            "\"Yes,\" they said.\n",
            "\"Yes,\" they said.\n",
            "\"Isn't,\" they said.\n"
          ]
        }
      ]
    },
    {
      "cell_type": "markdown",
      "metadata": {
        "id": "Rn4rbWf0iCVd"
      },
      "source": [
        "Strings can be concatenated (glued together) with the '+ 'operator, and repeated with '*' operator:\n"
      ]
    },
    {
      "cell_type": "code",
      "metadata": {
        "id": "lQMCs_3liG7U",
        "colab": {
          "base_uri": "https://localhost:8080/"
        },
        "outputId": "570fd4cd-cb5a-49d0-fb82-435c951fc2c2"
      },
      "source": [
        "strA = 'out glow '\n",
        "strB = 'your limits '\n",
        "print(  strA+strB  )\n",
        "print(  strA*2  )\n",
        "print(  strA*3+strB  )\n",
        "#print statement (function) can take any number of values (like string or number) as arguments)\n",
        "print(  strA*3+strB, ', ', strA+strB*2  )\n"
      ],
      "execution_count": 8,
      "outputs": [
        {
          "output_type": "stream",
          "name": "stdout",
          "text": [
            "out glow your limits \n",
            "out glow out glow \n",
            "out glow out glow out glow your limits \n",
            "out glow out glow out glow your limits  ,  out glow your limits your limits \n"
          ]
        }
      ]
    }
  ]
}