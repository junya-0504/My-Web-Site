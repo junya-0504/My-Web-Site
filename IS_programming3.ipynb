{
  "nbformat": 4,
  "nbformat_minor": 0,
  "metadata": {
    "colab": {
      "name": "IS-programming3.ipynb",
      "provenance": [],
      "collapsed_sections": [],
      "toc_visible": true,
      "include_colab_link": true
    },
    "kernelspec": {
      "name": "python3",
      "display_name": "Python 3"
    }
  },
  "cells": [
    {
      "cell_type": "markdown",
      "metadata": {
        "id": "view-in-github",
        "colab_type": "text"
      },
      "source": [
        "<a href=\"https://colab.research.google.com/github/junya-0504/homepage/blob/master/IS_programming3.ipynb\" target=\"_parent\"><img src=\"https://colab.research.google.com/assets/colab-badge.svg\" alt=\"Open In Colab\"/></a>"
      ]
    },
    {
      "cell_type": "markdown",
      "metadata": {
        "id": "FrFAPNkWRSkJ"
      },
      "source": [
        "# Defining Functions*\n",
        "*Quoted from https://docs.python.org/3/tutorial/controlflow.html#defining-functions. Refer original for detail.\n",
        "\n"
      ]
    },
    {
      "cell_type": "markdown",
      "metadata": {
        "id": "K8VzcC4CFu2V"
      },
      "source": [
        "## Example1: Function that takes a parameter\n",
        "We can create a function that writes the Fibonacci series to an arbitrary boundary:"
      ]
    },
    {
      "cell_type": "code",
      "metadata": {
        "id": "ksO-8xW8SNw7",
        "colab": {
          "base_uri": "https://localhost:8080/"
        },
        "outputId": "65c70d16-9458-4cc6-f649-2e1c9aa79e74"
      },
      "source": [
        "def fib(n):    # write Fibonacci series up to n\n",
        "    \"\"\"Print a Fibonacci series up to n.\"\"\"\n",
        "    a =0\n",
        "    b = 1\n",
        "    while a < n:\n",
        "        print(a, end=' ') #end speficies the string to write at the end of output\n",
        "        c = a   #modified for novice understanding\n",
        "        a = b   #in original tutorial: a,b = b,a+b #two assingments by one operator\n",
        "        b = c+b #\n",
        "    print()\n",
        "# def ends\n",
        "#Function call\n",
        "f =fib(2000)"
      ],
      "execution_count": 4,
      "outputs": [
        {
          "output_type": "stream",
          "name": "stdout",
          "text": [
            "0 1 1 2 3 5 8 13 21 34 55 89 144 233 377 610 987 1597 \n"
          ]
        }
      ]
    },
    {
      "cell_type": "markdown",
      "metadata": {
        "id": "GIhNV_Z3FV7H"
      },
      "source": [
        "The keyword def introduces a function definition. It must be followed by the function name and the parenthesized list of formal parameters. The statements that form the body of the function start at the next line, and must be indented.\n",
        "\n",
        "The first statement of the function body can optionally be a string literal; this string literal is the function’s documentation string, or docstring. There are tools which use docstrings to automatically produce online or printed documentation, or to let the user interactively browse through code; it’s good practice to include docstrings in code that you write, so make a habit of it.\n",
        "\n",
        "The execution of a function introduces the local variables of the function. \n",
        "\n",
        "Thus, global variables and variables of enclosing functions (not explained in this class) cannot be directly assigned a value within a function.\n",
        "\n",
        "The actual parameters (arguments) to a function call are also treated same way as local variables. When a function calls another function, new local variables are created for that call."
      ]
    },
    {
      "cell_type": "markdown",
      "metadata": {
        "id": "P5lR0tP3SkSR"
      },
      "source": [
        "## Example2: Function that return a value\n",
        "\n",
        "It is simple to write a function that returns a list of the numbers of the Fibonacci series, instead of printing it:\n"
      ]
    },
    {
      "cell_type": "code",
      "metadata": {
        "id": "7x39gXcFTsTJ",
        "colab": {
          "base_uri": "https://localhost:8080/"
        },
        "outputId": "d4f88eeb-c87f-4b8e-dd90-5c9a0a07b19c"
      },
      "source": [
        "def fib2(n):  # return Fibonacci series up to n\n",
        "    \"\"\"Return a list containing the Fibonacci series up to n.\"\"\"\n",
        "    result = []\n",
        "    a = 0\n",
        "    b = 1\n",
        "    while a < n:\n",
        "        result.append(a) #\n",
        "        a, b = b, a+b\n",
        "    return result\n",
        " \n",
        "#Function call returns a value\n",
        "fib2(100)\n"
      ],
      "execution_count": 5,
      "outputs": [
        {
          "output_type": "execute_result",
          "data": {
            "text/plain": [
              "[0, 1, 1, 2, 3, 5, 8, 13, 21, 34, 55, 89]"
            ]
          },
          "metadata": {},
          "execution_count": 5
        }
      ]
    },
    {
      "cell_type": "markdown",
      "metadata": {
        "id": "Pzcg0OuCTlY5"
      },
      "source": [
        "## Example3 - Recursive call\n",
        "You can call a function from inside of itself. This is called recursion (recursive call). Basic mechanism of recursion depends on traditional stack machine (detail is not explained here).\n",
        "With recursion, Fibonacchi series' definition (Fib(n+1) = Fib(n)+Fib(n-1)) can be implemented straight fowardly.\n"
      ]
    },
    {
      "cell_type": "code",
      "metadata": {
        "id": "kOX8xjAmWrG8",
        "colab": {
          "base_uri": "https://localhost:8080/"
        },
        "outputId": "df270ccf-61e0-495d-8698-52f5dae8b0d4"
      },
      "source": [
        "def fib3(n):\n",
        "    \"\"\"Return a n-th member of Fibonacci series. a recursive version\"\"\"\n",
        "    if n < 2:\n",
        "        return n\n",
        "    else:\n",
        "        return fib3(n-1)+fib3(n-2)\n",
        "#def ends\n",
        "\n",
        "fib3(10) #call\n"
      ],
      "execution_count": 6,
      "outputs": [
        {
          "output_type": "execute_result",
          "data": {
            "text/plain": [
              "55"
            ]
          },
          "metadata": {},
          "execution_count": 6
        }
      ]
    },
    {
      "cell_type": "markdown",
      "metadata": {
        "id": "7rFLC0UnZxPE"
      },
      "source": [
        "Recursion often makes program short but increases runtime overhead in most cases (the cost for function calling is significantly higher than simple statement execution cost). Typically, thousands of nested recursion will cause stack over flow and make program fail."
      ]
    },
    {
      "cell_type": "markdown",
      "metadata": {
        "id": "P-gV5ymDz7_3"
      },
      "source": [
        "# Mini report 2\n",
        "Count how many times function fib3 is called when calculating Fib(10) **by addinig reuired statements to the code below**. Also compare that number with number of \"+\" operation occuring fib2 when calculating Fib(10).\n"
      ]
    },
    {
      "cell_type": "code",
      "metadata": {
        "id": "lvwCiXI_0bWY",
        "colab": {
          "base_uri": "https://localhost:8080/"
        },
        "outputId": "05e90fa8-8b74-41da-e435-9a2e7c820813"
      },
      "source": [
        "call_count = 0\n",
        "sum_count = 0\n",
        "\n",
        "def fib3(n):\n",
        "    \"\"\"Return a n-th member of Fibonacci series. a recursive version\"\"\"\n",
        "    global call_count #this statement makes outer variable visible\n",
        "    call_count += 1 # Increment when function fib3 is called\n",
        "    if n < 2:\n",
        "        return n\n",
        "    else:\n",
        "        return fib3(n-1)+fib3(n-2)\n",
        "#def fib3 end\n",
        "\n",
        "fib3(10)\n",
        "print(\"Function call count:\",call_count)\n",
        "\n",
        "\n",
        "def fib2(n):  # return Fibonacci series up to n\n",
        "    \"\"\"Return a list containing the Fibonacci series up to n.\"\"\"\n",
        "    global sum_count #this statement makes outer variable visible\n",
        "    result = []\n",
        "    a = 0\n",
        "    b = 1\n",
        "    while a < n:\n",
        "        result.append(a)\n",
        "        a,b = b, a+b\n",
        "        sum_count += 1 # Increment when \"+\" operation occurs in function fib2\n",
        "    return result\n",
        "#def fib2 end\n",
        "\n",
        "fib2(10)\n",
        "print(\"Sum operation count:\",sum_count)"
      ],
      "execution_count": 8,
      "outputs": [
        {
          "output_type": "stream",
          "name": "stdout",
          "text": [
            "Function call count: 177\n",
            "Sum operation count: 7\n"
          ]
        }
      ]
    }
  ]
}