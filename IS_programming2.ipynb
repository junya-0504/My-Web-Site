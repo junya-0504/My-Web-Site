{
  "nbformat": 4,
  "nbformat_minor": 0,
  "metadata": {
    "colab": {
      "name": "IS-programming2.ipynb",
      "provenance": [],
      "collapsed_sections": [
        "sl8HUhnQaHwY"
      ],
      "toc_visible": true,
      "include_colab_link": true
    },
    "kernelspec": {
      "name": "python3",
      "display_name": "Python 3"
    }
  },
  "cells": [
    {
      "cell_type": "markdown",
      "metadata": {
        "id": "view-in-github",
        "colab_type": "text"
      },
      "source": [
        "<a href=\"https://colab.research.google.com/github/junya-0504/homepage/blob/master/IS_programming2.ipynb\" target=\"_parent\"><img src=\"https://colab.research.google.com/assets/colab-badge.svg\" alt=\"Open In Colab\"/></a>"
      ]
    },
    {
      "cell_type": "markdown",
      "metadata": {
        "id": "UEJBilI6XcwU"
      },
      "source": [
        "# Writing a program \n",
        "## Program is a sequence of statements (instructions).\n",
        "```\n",
        "a = 2\n",
        "b = 3\n",
        "c = a**2+b\n",
        "c\n",
        "```\n",
        "\n"
      ]
    },
    {
      "cell_type": "code",
      "metadata": {
        "id": "oqLeQokdoMdt",
        "colab": {
          "base_uri": "https://localhost:8080/"
        },
        "outputId": "94c09b9c-3f76-4db4-9673-9e57c49d5040"
      },
      "source": [
        "# Try yourself with above code\n",
        "a = 2\n",
        "b = 3\n",
        "c = a**2+b\n",
        "print(a,b,c)"
      ],
      "execution_count": 5,
      "outputs": [
        {
          "output_type": "stream",
          "name": "stdout",
          "text": [
            "2 3 7\n"
          ]
        }
      ]
    },
    {
      "cell_type": "markdown",
      "metadata": {
        "id": "inka6tDSYARV"
      },
      "source": [
        "In this example, a, b, and c are *variables*."
      ]
    },
    {
      "cell_type": "markdown",
      "metadata": {
        "id": "VNDa24VfppUY"
      },
      "source": [
        "# Variables \n",
        "Variable: Assignee (data container)\n",
        "\n",
        "* Depending on the language, it is necessary to declare the name and type of the variable to be used in advance.\n",
        "* In the case of an interpreter language, declaration and type specification are often unnecessary.\n",
        "* As in an example below, variables are automatically recognized and their types are automatically determined according to the textual expression and context by the Python interpreter\n",
        "\n",
        "\n",
        "\n",
        "\n",
        "```\n",
        "a = 1 #int\n",
        "b = 2.0 #float\n",
        "c = a + b #float\n",
        "a=a + 0.5 #float\n",
        "print(a,b,c)\n",
        "```\n",
        "\n",
        "\n",
        "\n"
      ]
    },
    {
      "cell_type": "code",
      "metadata": {
        "id": "OXNYZMMUZVj4",
        "colab": {
          "base_uri": "https://localhost:8080/"
        },
        "outputId": "bfae5a91-abd5-4be8-e44e-a3b621729f73"
      },
      "source": [
        "# try your self with above code\n",
        "a = 1 #int\n",
        "b = 2.0 #float\n",
        "c = a + b #float\n",
        "a=a + 0.5 #float\n",
        "print(a,b,c)"
      ],
      "execution_count": 6,
      "outputs": [
        {
          "output_type": "stream",
          "name": "stdout",
          "text": [
            "1.5 2.0 3.0\n"
          ]
        }
      ]
    },
    {
      "cell_type": "markdown",
      "metadata": {
        "id": "sl8HUhnQaHwY"
      },
      "source": [
        "# Input and output\n",
        "*   input statement takes a string from command line\n",
        "\n",
        "*   print statement outputs values according to their types (fancy output is not treated in this class)\n",
        "\n",
        "```\n",
        "name = input(\"Type your name:\") # input( string for prompt message )\n",
        "print(\"Hello\",name) # print ( values, .... )\n",
        "```\n",
        "\n",
        "\n",
        "\n"
      ]
    },
    {
      "cell_type": "code",
      "metadata": {
        "id": "BlwUMTpdbG3e",
        "colab": {
          "base_uri": "https://localhost:8080/"
        },
        "outputId": "1b98d9e2-e55e-4e10-f971-e489794a21d0"
      },
      "source": [
        "# Try your self with above code\n",
        "name = input(\"Type your name:\") # input( string for prompt message )\n",
        "print(\"Hello\",name) # print ( values, .... )"
      ],
      "execution_count": 8,
      "outputs": [
        {
          "output_type": "stream",
          "name": "stdout",
          "text": [
            "Type your name:aho\n",
            "Hello aho\n"
          ]
        }
      ]
    },
    {
      "cell_type": "markdown",
      "metadata": {
        "id": "Out1AuIwKgz6"
      },
      "source": [
        "# Operators\n"
      ]
    },
    {
      "cell_type": "markdown",
      "metadata": {
        "id": "r8x49PsDbLlM"
      },
      "source": [
        "### Arithmetic Operators\n",
        "```\n",
        "+\tAddition\tx + y\t\n",
        "-\tSubtraction\tx - y\t\n",
        "*\tMultiplication\tx * y\t\n",
        "/\tDivision\tx / y\t\n",
        "%\tModulus\tx % y\t\n",
        "**\tExponentiation\tx ** y\t\n",
        "//\tFloor division\tx // y\n",
        "```\n"
      ]
    },
    {
      "cell_type": "markdown",
      "metadata": {
        "id": "IoVrPib3LS4K"
      },
      "source": [
        "### Comparison Operators\n",
        "```\n",
        "==\tEqual\tx == y\t\n",
        "!=\tNot equal\tx != y\t\n",
        ">\tGreater than\tx > y\t\n",
        "<\tLess than\tx < y\t\n",
        ">=\tGreater than or equal to\tx >= y\t\n",
        "<=\tLess than or equal to\tx <= y\n",
        "```\n",
        "\n"
      ]
    },
    {
      "cell_type": "markdown",
      "metadata": {
        "id": "ybjyeSirLWeA"
      },
      "source": [
        "### Logical Operators\n",
        "```\n",
        "and Returns True if both of two operands have True values: a > b and b > c\n",
        "or\tReturns True if at least one of two oeprands have True value: a > b or a = b\n",
        "not\tReturns reversed value of the oprand:\tnot(a<b)\n",
        "```\n",
        "Read language reference for all available operators.\n",
        "https://docs.python.org/3/library/operator.html#mapping-operators-to-functions"
      ]
    },
    {
      "cell_type": "markdown",
      "metadata": {
        "id": "ES8ns2L2upNH"
      },
      "source": [
        "# Control statements\n",
        "\n",
        "* Conditional branch (if statement)\n",
        "* Iteration (for, while statement)\n",
        "\n",
        "visit <https://docs.python.org/3/tutorial/controlflow.html> for detail"
      ]
    },
    {
      "cell_type": "markdown",
      "metadata": {
        "id": "GuZPGw4gvG2f"
      },
      "source": [
        "## if statement\n",
        "```\n",
        "if <condition> : # colon is required\n",
        "    <true part> # indent with 4 white spaces\n",
        "else: #colon is required\n",
        "    <false part>\n",
        "#Block ends where indent ends.\n",
        "```\n",
        "elif (short for else if) can be used to avoid excessive indentation. \n",
        "```\n",
        "# Example\n",
        "x = int(input(\"Please enter an integer: \"))\n",
        "if x < 0:\n",
        "    x = 0\n",
        "    print('Negative changed to zero')\n",
        "elif x == 0:\n",
        "    print('Zero')\n",
        "elif x == 1:\n",
        "    print('Single')\n",
        "else:\n",
        "    print('More')\n",
        "```\n",
        "Above is equivalent to:\n",
        "```\n",
        "# Example\n",
        "x = int(input(\"Please enter an integer: \"))\n",
        "if x < 0:\n",
        "    x = 0\n",
        "    print('Negative changed to zero')\n",
        "else:\n",
        "    if x == 0:\n",
        "        print('Zero')\n",
        "    else:\n",
        "        if x == 1:\n",
        "            print('Single')\n",
        "        else:\n",
        "            print('More')\n",
        "```\n"
      ]
    },
    {
      "cell_type": "code",
      "metadata": {
        "id": "NQv0ZQ4AvrO6",
        "colab": {
          "base_uri": "https://localhost:8080/"
        },
        "outputId": "63e024e2-8912-47df-f593-4daac11b850c"
      },
      "source": [
        "#execute code above\n",
        "x = int(input(\"Please enter an integer: \"))\n",
        "if x < 0:\n",
        "    x = 0\n",
        "    print('Negative changed to zero')\n",
        "elif x == 0:\n",
        "    print('Zero')\n",
        "elif x == 1:\n",
        "    print('Single')\n",
        "else:\n",
        "    print('More')"
      ],
      "execution_count": 13,
      "outputs": [
        {
          "output_type": "stream",
          "name": "stdout",
          "text": [
            "Please enter an integer: 3\n",
            "More\n"
          ]
        }
      ]
    },
    {
      "cell_type": "markdown",
      "metadata": {
        "id": "70iw85fDvpOx"
      },
      "source": [
        "## Iteration\n",
        "Iterative statement is essentially a conditional jump (loop).\n"
      ]
    },
    {
      "cell_type": "markdown",
      "metadata": {
        "id": "ds_Elx-1DB1Z"
      },
      "source": [
        "### While statement\n",
        "```\n",
        "while <condition> : #don't forget colon\n",
        "     #do something important\n",
        "     #do something to make the condition true\n",
        "#end of indentation indicates the end of loop\n",
        "#do something here after yo get out of while loop\n",
        "```\n",
        "Body statement is not executed if the condition is False at the beginning.\n",
        "There is no **repeat** statement in python.\n",
        "```\n",
        "name = input(\"What's your name?\")\n",
        "while name != 'bye':\n",
        "    print('Hi,', name, '!')\n",
        "    name = input(\"What's your name?\")\n",
        "print('good Bye!')\n",
        "```"
      ]
    },
    {
      "cell_type": "code",
      "metadata": {
        "id": "4mXo-WhfFDDS",
        "colab": {
          "base_uri": "https://localhost:8080/"
        },
        "outputId": "d02c9526-2db5-4c53-bdab-f1c64e70dde9"
      },
      "source": [
        "name = input(\"What's your name?\")\n",
        "while name != 'bye':\n",
        "    print('Hi,', name, '!')\n",
        "    name = input(\"What's your name?\")\n",
        "print('good Bye!')"
      ],
      "execution_count": 16,
      "outputs": [
        {
          "output_type": "stream",
          "name": "stdout",
          "text": [
            "What's your name?hi\n",
            "Hi, hi !\n",
            "What's your name?bye\n",
            "good Bye!\n"
          ]
        }
      ]
    },
    {
      "cell_type": "markdown",
      "metadata": {
        "id": "MxCwP0OqGynK"
      },
      "source": [
        "but with \"break\" statement, you don't have to write input statement twice:\n",
        "```\n",
        "while True:\n",
        "    name = input(\"What's your name?\")\n",
        "    if name == 'bye':\n",
        "        break\n",
        "    print('Hi,', name, '!')\n",
        "print('good Bye!')\n",
        "```\n",
        "*break* statement lets you jump out of the innermost iteration."
      ]
    },
    {
      "cell_type": "code",
      "metadata": {
        "id": "ggDHNJwaHSqC",
        "colab": {
          "base_uri": "https://localhost:8080/"
        },
        "outputId": "c67a0f6d-c0e4-4ce9-9067-0cb4aa88d327"
      },
      "source": [
        "while True:\n",
        "    name = input(\"What's your name?\")\n",
        "    if name == 'bye':\n",
        "        break\n",
        "    print('Hi,', name, '!')\n",
        "print('good Bye!')"
      ],
      "execution_count": 17,
      "outputs": [
        {
          "output_type": "stream",
          "name": "stdout",
          "text": [
            "What's your name?hiro\n",
            "Hi, hiro !\n",
            "What's your name?ai\n",
            "Hi, ai !\n",
            "What's your name?bye\n",
            "good Bye!\n"
          ]
        }
      ]
    },
    {
      "cell_type": "markdown",
      "metadata": {
        "id": "VBFS2VstyCp_"
      },
      "source": [
        "### For statement\n",
        "```\n",
        "for *variable* in [list or something] : #don't forget colon\n",
        "    #do something\n",
        "#end of indentation indicates the end of loop\n",
        "```"
      ]
    },
    {
      "cell_type": "code",
      "metadata": {
        "id": "6qXGnT3FyCOx",
        "colab": {
          "base_uri": "https://localhost:8080/"
        },
        "outputId": "17ff4af2-9ecc-47f8-8c87-d82a4ec9ab0b"
      },
      "source": [
        "for animal in ['dog','cat','panda', 'mouse']:\n",
        "    print(animal),\n",
        "print(\"are animals\")"
      ],
      "execution_count": 19,
      "outputs": [
        {
          "output_type": "stream",
          "name": "stdout",
          "text": [
            "dog\n",
            "cat\n",
            "panda\n",
            "mouse\n",
            "are animals\n"
          ]
        }
      ]
    },
    {
      "cell_type": "markdown",
      "metadata": {
        "id": "_AzA5b6Gzfb8"
      },
      "source": [
        "*If* you do need to iterate over a sequence of numbers, the built-in function ''range()''comes in handy. It generates arithmetic progressions:\n"
      ]
    },
    {
      "cell_type": "code",
      "metadata": {
        "id": "RodcM2jgnzhe",
        "colab": {
          "base_uri": "https://localhost:8080/"
        },
        "outputId": "37b86bde-d5ab-4aff-bb22-b4c083f1c1b6"
      },
      "source": [
        "for i in range(5):\n",
        "    print(i)\n",
        "for i in range(7,10):\n",
        "    print(i)"
      ],
      "execution_count": 20,
      "outputs": [
        {
          "output_type": "stream",
          "name": "stdout",
          "text": [
            "0\n",
            "1\n",
            "2\n",
            "3\n",
            "4\n",
            "7\n",
            "8\n",
            "9\n"
          ]
        }
      ]
    },
    {
      "cell_type": "markdown",
      "metadata": {
        "id": "YQDP3R7k0gqR"
      },
      "source": [
        "### *break* and *continue* Statements, and *else* Clauses on Loops\n",
        "* The *break* statement breaks out of the innermost enclosing *for* or *while* loop.\n",
        "* *Python's unique feature:* Loop statements may have an *else* clause; it is executed when the loop terminates through exhaustion of the iterable (with for) or when the condition becomes false (with while), but not when the loop is terminated by a *break* statement. This is exemplified by the following loop, which searches for prime numbers:\n",
        "```\n",
        "for n in range(2, 10):\n",
        "    for x in range(2, n):\n",
        "        if n % x == 0:\n",
        "            print(n, 'equals', x, '*', n//x)\n",
        "            break\n",
        "    else:\n",
        "        # loop fell through without finding a factor\n",
        "        print(n, 'is a prime number')\n",
        "#end\n",
        "```\n"
      ]
    },
    {
      "cell_type": "code",
      "metadata": {
        "id": "5YWaaTCTze3D",
        "colab": {
          "base_uri": "https://localhost:8080/"
        },
        "outputId": "cb1d2e4a-aed2-45b4-f758-48415bc583c5"
      },
      "source": [
        "for n in range(2, 10):\n",
        "  for x in range(2, n):\n",
        "      if n % x == 0:\n",
        "          print(n, 'equals', x, '*', n//x)\n",
        "          break\n",
        "  else:\n",
        "      # loop fell through without finding a factor\n",
        "      print(n, 'is a prime number')\n",
        "# end"
      ],
      "execution_count": 21,
      "outputs": [
        {
          "output_type": "stream",
          "name": "stdout",
          "text": [
            "2 is a prime number\n",
            "3 is a prime number\n",
            "4 equals 2 * 2\n",
            "5 is a prime number\n",
            "6 equals 2 * 3\n",
            "7 is a prime number\n",
            "8 equals 2 * 4\n",
            "9 equals 3 * 3\n"
          ]
        }
      ]
    },
    {
      "cell_type": "markdown",
      "metadata": {
        "id": "Jxv9GMXd1vsH"
      },
      "source": [
        "# Mini report 1\n",
        "Assume if we don't have either break or else-on-loop statement available, how do we need to modify the code above?\n",
        "~~ Write a code without break and else-on-loop statements to do the same work.\n",
        "\n",
        "***\n",
        "* Save this note locally when you complete your report\n",
        "* Instruction to submit your report will be provided separately.\n"
      ]
    },
    {
      "cell_type": "code",
      "metadata": {
        "id": "a1EuJGzV2kSg",
        "colab": {
          "base_uri": "https://localhost:8080/"
        },
        "outputId": "f142dcfe-ba43-4ef5-e5da-59a3b7c5379d"
      },
      "source": [
        "# write your code and execute\n",
        "for n in range(2, 10):\n",
        "  count = 0 # Initialization of variable \"count\"\n",
        "  for x in range(2, n):\n",
        "    if n % x == 0 and count == 0: # n is divisible by x for the first time\n",
        "      print(n, 'equals', x, '*', n//x)\n",
        "      count += 1\n",
        "  if count == 0: # n is not divisible by x\n",
        "    print(n, 'is a prime number')"
      ],
      "execution_count": 32,
      "outputs": [
        {
          "output_type": "stream",
          "name": "stdout",
          "text": [
            "2 is a prime number\n",
            "3 is a prime number\n",
            "4 equals 2 * 2\n",
            "5 is a prime number\n",
            "6 equals 2 * 3\n",
            "7 is a prime number\n",
            "8 equals 2 * 4\n",
            "9 equals 3 * 3\n"
          ]
        }
      ]
    }
  ]
}