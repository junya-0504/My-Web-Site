{
  "nbformat": 4,
  "nbformat_minor": 0,
  "metadata": {
    "colab": {
      "name": "IS_programming4.ipynb",
      "provenance": [],
      "collapsed_sections": [],
      "include_colab_link": true
    },
    "kernelspec": {
      "name": "python3",
      "display_name": "Python 3"
    }
  },
  "cells": [
    {
      "cell_type": "markdown",
      "metadata": {
        "id": "view-in-github",
        "colab_type": "text"
      },
      "source": [
        "<a href=\"https://colab.research.google.com/github/junya-0504/homepage/blob/master/IS_programming4.ipynb\" target=\"_parent\"><img src=\"https://colab.research.google.com/assets/colab-badge.svg\" alt=\"Open In Colab\"/></a>"
      ]
    },
    {
      "cell_type": "markdown",
      "metadata": {
        "id": "2_YWnGrueH70"
      },
      "source": [
        "# Defining a Class\n",
        "\n",
        "```\n",
        "class <CLASSNAME> ():\n",
        "  \"\"\"Doc String\"\"\" #optional\n",
        "  <Initialization of variables>\n",
        "  <definitions of methods>\n",
        "\n",
        "```\n",
        "Class objects support two kinds of operations: attribute references and instantiation.\n",
        "\n",
        "Attribute references use the standard syntax used for all attribute references in Python: obj.name. Valid attribute names are all the names that were in the class’s namespace when the class object was created. So, if the class definition looked like this:\n",
        "```\n",
        "class MyClass:\n",
        "    \"\"\"A simple example class\"\"\"\n",
        "    i = 12345\n",
        "    def f(self):\n",
        "        return 'hello world'\n",
        "```\n",
        "then *MyClass.i* and *MyClass.f* are valid attribute references, returning an integer and a function object, respectively. "
      ]
    },
    {
      "cell_type": "markdown",
      "metadata": {
        "id": "t_F5jqSAhFPy"
      },
      "source": [
        "## Instantiation\n",
        " Just pretend that the class object is a parameterless function that returns a new instance of the class. For example (assuming the above class):\n",
        "```\n",
        "x = MyClass()\n",
        "```\n",
        "creates a new *instance* of the class and assigns this object to the local variable *x*.\n",
        "The instantiation operation (“calling” a class object) creates an empty object. Many classes like to create objects with instances customized to a specific initial state. Therefore a class may define a special method named  \"\\_\\_init__()\" , like this:\n",
        "```\n",
        "def __init__(self):\n",
        "    self.data = []\n",
        "```\n",
        "When a class defines an\\_\\_init__()method, class instantiation automatically invokes \\_\\_init__()for the newly-created class instance. So in this example, a new, initialized instance can be obtained by:\n",
        "```\n",
        "x = MyClass()\n",
        "```\n",
        "Of course, the *\\_\\_init__()* method may have arguments for greater flexibility. In that case, arguments given to the class instantiation operator are passed on to *\\_\\_init__()* . For example,\n"
      ]
    },
    {
      "cell_type": "code",
      "metadata": {
        "id": "FT2CzjPgiN5h",
        "colab": {
          "base_uri": "https://localhost:8080/"
        },
        "outputId": "be9bac1d-5c8e-4e41-8905-549689cfa376"
      },
      "source": [
        "class Complex:\n",
        "    def __init__(self, realpart, imagpart):\n",
        "        self.r = realpart\n",
        "        self.i = imagpart\n",
        "\n",
        "x = Complex(3.0, -4.5)\n",
        "print(x.r, x.i)"
      ],
      "execution_count": 1,
      "outputs": [
        {
          "output_type": "stream",
          "name": "stdout",
          "text": [
            "3.0 -4.5\n"
          ]
        }
      ]
    },
    {
      "cell_type": "markdown",
      "metadata": {
        "id": "A7BvKCk9jRDV"
      },
      "source": [
        "## Instance Objects\n",
        "Now what can we do with instance objects? The only operations understood by instance objects are attribute references. There are two kinds of valid attribute names: data attributes and methods."
      ]
    },
    {
      "cell_type": "markdown",
      "metadata": {
        "id": "6URAn749g_yl"
      },
      "source": [
        "### Data Attributes\n",
        "*data attributes* correspond to “instance variables” in Smalltalk, and to “data members” in C++. \n",
        "\n",
        "Data attributes need not be declared; like local variables, they spring into existence when they are first assigned to. For example, if *x* is the instance of *MyClass* created above, x should have no attributes like newattr. But new attribute of x is introduced where the assignment occurs.\n",
        "But this is locally introduced to x. Aonther instance Y does not have such attribute yet.\n",
        "\n",
        "\n"
      ]
    },
    {
      "cell_type": "code",
      "metadata": {
        "id": "WeFtOqMXmTwQ",
        "colab": {
          "base_uri": "https://localhost:8080/",
          "height": 227
        },
        "outputId": "059d109a-c437-44e7-8c5d-b9f2b11be3e7"
      },
      "source": [
        "class MyClass():\n",
        "    pass # this class contains nothing\n",
        "\n",
        "x = MyClass()\n",
        "x.newattr = 1 #new attribute can be defined dynamically.\n",
        "print(x.newattr)\n",
        "y = MyClass()\n",
        "print(y.newattr) #But this causes an error"
      ],
      "execution_count": 15,
      "outputs": [
        {
          "output_type": "stream",
          "name": "stdout",
          "text": [
            "1\n"
          ]
        },
        {
          "output_type": "error",
          "ename": "AttributeError",
          "evalue": "ignored",
          "traceback": [
            "\u001b[0;31m---------------------------------------------------------------------------\u001b[0m",
            "\u001b[0;31mAttributeError\u001b[0m                            Traceback (most recent call last)",
            "\u001b[0;32m<ipython-input-15-1a91a8d94f5b>\u001b[0m in \u001b[0;36m<module>\u001b[0;34m()\u001b[0m\n\u001b[1;32m      6\u001b[0m \u001b[0mprint\u001b[0m\u001b[0;34m(\u001b[0m\u001b[0mx\u001b[0m\u001b[0;34m.\u001b[0m\u001b[0mnewattr\u001b[0m\u001b[0;34m)\u001b[0m\u001b[0;34m\u001b[0m\u001b[0;34m\u001b[0m\u001b[0m\n\u001b[1;32m      7\u001b[0m \u001b[0my\u001b[0m \u001b[0;34m=\u001b[0m \u001b[0mMyClass\u001b[0m\u001b[0;34m(\u001b[0m\u001b[0;34m)\u001b[0m\u001b[0;34m\u001b[0m\u001b[0;34m\u001b[0m\u001b[0m\n\u001b[0;32m----> 8\u001b[0;31m \u001b[0mprint\u001b[0m\u001b[0;34m(\u001b[0m\u001b[0my\u001b[0m\u001b[0;34m.\u001b[0m\u001b[0mnewattr\u001b[0m\u001b[0;34m)\u001b[0m \u001b[0;31m#But this causes an error\u001b[0m\u001b[0;34m\u001b[0m\u001b[0;34m\u001b[0m\u001b[0m\n\u001b[0m",
            "\u001b[0;31mAttributeError\u001b[0m: 'MyClass' object has no attribute 'newattr'"
          ]
        }
      ]
    },
    {
      "cell_type": "markdown",
      "metadata": {
        "id": "wUaBoOhDjdVk"
      },
      "source": [
        "### Method\n",
        "The other kind of instance attribute reference is a *method*. A method is a function that “belongs to” an object.\n",
        "Method is invoked by evaluating by the form of: instance.method(parameters)\n",
        "\n",
        "Method can return a value like normal functions. Below is a simple example of method call"
      ]
    },
    {
      "cell_type": "code",
      "metadata": {
        "id": "TJLsoCWrosTc",
        "colab": {
          "base_uri": "https://localhost:8080/"
        },
        "outputId": "12c170bc-d0e5-489a-edcc-9177fa9d0945"
      },
      "source": [
        "class MyClass:\n",
        "    \"\"\"A simple example class\"\"\"\n",
        "    i = 12345\n",
        "    def f(self):\n",
        "        return 'hello world'\n",
        "\n",
        "x = MyClass()\n",
        "## invoke a method\n",
        "str = x.f()\n",
        "print(str)"
      ],
      "execution_count": 3,
      "outputs": [
        {
          "output_type": "stream",
          "name": "stdout",
          "text": [
            "hello world\n"
          ]
        }
      ]
    },
    {
      "cell_type": "markdown",
      "metadata": {
        "id": "yA78LN32q36q"
      },
      "source": [
        "## Class and Instance Variables\n",
        "\n",
        "Generally speaking, instance variables are for data unique to each instance and class variables are for attributes and methods shared by all instances of the class:"
      ]
    },
    {
      "cell_type": "code",
      "metadata": {
        "id": "2lXTWeC_qC-F",
        "colab": {
          "base_uri": "https://localhost:8080/"
        },
        "outputId": "b0b786d7-cb61-4cdd-d699-c35bc3399fe6"
      },
      "source": [
        "class Dog:\n",
        "    kind = 'canine'         # class variable shared by all instances\n",
        "    def __init__(self, name):\n",
        "        self.name = name    # instance variable unique to each instance\n",
        "\n",
        "d = Dog('Fido')\n",
        "e = Dog('Buddy')\n",
        "print(\"Kind of d\", d.kind )  # shared by all dogs\n",
        "print(\"Kind of e\", e.kind )  # shared by all dogs\n",
        "print(\"Name of d\", d.name)   # unique to d\n",
        "print(\"Name of e\", e.name)   # unique to d\n"
      ],
      "execution_count": 4,
      "outputs": [
        {
          "output_type": "stream",
          "name": "stdout",
          "text": [
            "Kind of d canine\n",
            "Kind of e canine\n",
            "Name of d Fido\n",
            "Name of e Buddy\n"
          ]
        }
      ]
    },
    {
      "cell_type": "markdown",
      "metadata": {
        "id": "rbwzQwgZrcBq"
      },
      "source": [
        "For example, the tricks list in the following code should not be used as a class variable because just a single list would be shared by all Dog instances:"
      ]
    },
    {
      "cell_type": "code",
      "metadata": {
        "id": "6mo0tmshrK3o",
        "colab": {
          "base_uri": "https://localhost:8080/"
        },
        "outputId": "a606fe28-f66d-4d67-aa6a-8ae0c1d2163d"
      },
      "source": [
        "class Dog:\n",
        "    tricks = []             # mistaken use of a class variable\n",
        "    def __init__(self, name):\n",
        "        self.name = name\n",
        "    def add_trick(self, trick):\n",
        "        self.tricks.append(trick)\n",
        "\n",
        "d = Dog('Fido')\n",
        "e = Dog('Buddy')\n",
        "d.add_trick('roll over')\n",
        "e.add_trick('play dead')\n",
        "print (d.tricks)                # unexpectedly shared by all dogs\n",
        "print (e.tricks)"
      ],
      "execution_count": 16,
      "outputs": [
        {
          "output_type": "stream",
          "name": "stdout",
          "text": [
            "['roll over', 'play dead']\n",
            "['roll over', 'play dead']\n"
          ]
        }
      ]
    },
    {
      "cell_type": "markdown",
      "metadata": {
        "id": "2FtteAXTjqSN"
      },
      "source": [
        "Correct design of the class should use an instance variable instead:\n"
      ]
    },
    {
      "cell_type": "code",
      "metadata": {
        "id": "1eJ6YK1mrkhX",
        "colab": {
          "base_uri": "https://localhost:8080/"
        },
        "outputId": "09c40559-618f-4b3d-a1d8-af82d12a9e9f"
      },
      "source": [
        "class Dog:\n",
        "    def __init__(self, name):\n",
        "        self.name = name\n",
        "        self.tricks = []    # creates a new empty list for each dog\n",
        "    def add_trick(self, trick):\n",
        "        self.tricks.append(trick)\n",
        "d = Dog('Fido')\n",
        "e = Dog('Buddy')\n",
        "d.add_trick('roll over')\n",
        "e.add_trick('play dead')\n",
        "print(d.tricks)\n",
        "print(e.tricks)"
      ],
      "execution_count": 6,
      "outputs": [
        {
          "output_type": "stream",
          "name": "stdout",
          "text": [
            "['roll over']\n",
            "['play dead']\n"
          ]
        }
      ]
    },
    {
      "cell_type": "markdown",
      "metadata": {
        "id": "VMPle9v0-Q8n"
      },
      "source": [
        "## Parameters to constructor\n",
        "Below is another example of class definition. Human class has two attribute variables: name and wallet. name is a string and wallet is an integer storing his/her amount of money.\n",
        "The constructor method takes initial value of them. As a trick, both parameter has default value specified. If value is not provided on instatiation, default value is used."
      ]
    },
    {
      "cell_type": "code",
      "metadata": {
        "id": "j9gGzLNMsbMC",
        "colab": {
          "base_uri": "https://localhost:8080/"
        },
        "outputId": "d4566d5c-770a-4c84-d49c-f9cfb890a982"
      },
      "source": [
        "class Human:\n",
        "  def __init__(self,name='Anonymous',wallet=1000):\n",
        "    self.name = name\n",
        "    self.wallet = wallet\n",
        "  def hello(self):\n",
        "    print(\"Hello! My name is \", self.name, \". I have \", self.wallet, 'JPY.')\n",
        "  def give(self, p, money):\n",
        "    \"\"\"give money to other\"\"\"\n",
        "    p.receive(money)\n",
        "    self.wallet -= money\n",
        "  def receive(self, money):\n",
        "    \"\"\"recieve money from other\"\"\"\n",
        "    self.wallet += money\n",
        "#\n",
        "p1 = Human()              #no parameter\n",
        "p2 = Human(\"Jack\")        #one parameter\n",
        "p3 = Human(\"Betty\",2000)  #two parameters\n",
        "p4 = Human(wallet=500)    #one parameters for wallet\n",
        "for p in (p1,p2,p3,p4):\n",
        "  p.hello()\n",
        "print('=====')\n",
        "p1.give(p2, 500)\n",
        "\n",
        "for p in (p1,p2,p3,p4):\n",
        "  p.hello()\n",
        "\n"
      ],
      "execution_count": 5,
      "outputs": [
        {
          "output_type": "stream",
          "name": "stdout",
          "text": [
            "Hello! My name is  Anonymous . I have  1000 JPY.\n",
            "Hello! My name is  Jack . I have  1000 JPY.\n",
            "Hello! My name is  Betty . I have  2000 JPY.\n",
            "Hello! My name is  Anonymous . I have  500 JPY.\n",
            "=====\n",
            "Hello! My name is  Anonymous . I have  500 JPY.\n",
            "Hello! My name is  Jack . I have  1500 JPY.\n",
            "Hello! My name is  Betty . I have  2000 JPY.\n",
            "Hello! My name is  Anonymous . I have  500 JPY.\n"
          ]
        }
      ]
    },
    {
      "cell_type": "markdown",
      "metadata": {
        "id": "DoYw81LSkire"
      },
      "source": [
        "## Inheritance\n",
        "You can create a new class by extending existing one. In the definition of the derived class, you can add / modify attributes.\n",
        "\n",
        "The syntax for a derived class definition looks like this:\n",
        "```\n",
        "class DerivedClassName(BaseClassName):\n",
        "    <statement-1>\n",
        "    .\n",
        "    .\n",
        "    .\n",
        "    <statement-N>\n",
        "```\n",
        "The name BaseClassName must be defined in a scope containing the derived class definition. In place of a base class name, other arbitrary expressions are also allowed.\n"
      ]
    },
    {
      "cell_type": "markdown",
      "metadata": {
        "id": "-5ZuyUNmyVpt"
      },
      "source": [
        "Following example is an extention of Human class that is defined above. Student class has a new attribute value height and a new method to tell his/her height. Method hello is also redefined to show height.\n",
        "Please note thet constructor and method defined in superclass can be accessed by using super() statement."
      ]
    },
    {
      "cell_type": "code",
      "metadata": {
        "id": "f0TLjWyjt-Lx",
        "colab": {
          "base_uri": "https://localhost:8080/"
        },
        "outputId": "7264461f-a5d7-4cfc-a968-9a1077a9cec2"
      },
      "source": [
        "class Student(Human):\n",
        "    def __init__(self,name,wallet,height):\n",
        "        self.height = height\n",
        "        super().__init__(name,wallet)\n",
        "    def showHeight(self):\n",
        "        print('My height =',self.height)\n",
        "    def hello(self):\n",
        "        super().hello()\n",
        "        self.showHeight()\n",
        "\n",
        "\n",
        "st = Student(\"taro\",1000,173)\n",
        "st.showHeight()\n",
        "print('====')\n",
        "st.hello()\n"
      ],
      "execution_count": 8,
      "outputs": [
        {
          "output_type": "stream",
          "name": "stdout",
          "text": [
            "My height = 173\n",
            "====\n",
            "Hello! My name is  taro . I have  1000 JPY.\n",
            "My height = 173\n"
          ]
        }
      ]
    },
    {
      "cell_type": "markdown",
      "metadata": {
        "id": "FuQXvEBVkWHw"
      },
      "source": [
        "# Mini-Report 3\n",
        "Let's create a class Student by extending Human class. Please write your code in the cell at bottom.\n"
      ]
    },
    {
      "cell_type": "markdown",
      "metadata": {
        "id": "yBAB31M9k9Jb"
      },
      "source": [
        "## Create a subclass \"Student\"\n",
        "The code cell below contains a template code  for Student class. Student objects behave as Human object because all attributes are inherited from Human class.\n"
      ]
    },
    {
      "cell_type": "markdown",
      "metadata": {
        "id": "gJpq52qF9JUC"
      },
      "source": [
        "## Add a Learn method to Student class\n",
        "\n",
        "Now, add a new skill to the Student class: **learn( subject )**\n",
        "\n",
        "Subject has string value as a title of studied class.\n",
        "Each student has a list \"sbj\" to store subjects that have already been learned.\n",
        "\n",
        "At first, you need to redefine the constructor method \\_\\_init__ to add initialization of subj at the constructor as follows:\n",
        "```\n",
        "  def __init__(self,name='Anon. Student',wallet=500):\n",
        "    subj = []\n",
        "    super().__init__(name,wallet)\n",
        "```\n",
        "Then let's implement the 'learn' method. \n",
        "\n",
        "Just for a simplicity, you may use \"subj.append(str)\" operation to add a value to subj. You also don't have to check whether appended subject is already in the list or not. You can use redefined \"hello()\" method to confirm the properties (that is already written in the cell).\n",
        "\n",
        "\n"
      ]
    },
    {
      "cell_type": "markdown",
      "metadata": {
        "id": "Ki0uWyedkweB"
      },
      "source": [
        "## Add a Teach method to Student class\n",
        "Finally, add another new skill: **teach( st )**. \n",
        "\n",
        "Argument 'st' is a Student object and to be taught by this method. Invocation of \"st1.teach(st2)\" causes copying one value from st1's subj[] to st2's subj[]. Value that have already in st2's subj[] is skipped and different subject will be tried. If copying happens, st2 also gives 10JPY to st1 as reward. \n",
        "\n",
        "Template of the teach method body code may be as follows\n",
        "```\n",
        "  for sb in st1.subj:\n",
        "    if st2.is_newsubj(sb):\n",
        "      st2.learn...\n",
        "      st2.give...\n",
        "      return\n",
        "```\n",
        "You may use following code for is_newsubj method used above:\n",
        "```\n",
        "  def is_newsubj( sb )\n",
        "    \"\"\" check if subj is not learned \"\"\"\"\n",
        "    for s in self.subj:\n",
        "      if sb == s:\n",
        "        return False #Already learned\n",
        "    # No mach occured\n",
        "    return True\n",
        "\n",
        "```\n"
      ]
    },
    {
      "cell_type": "code",
      "metadata": {
        "id": "PDbsgBsw8sOq",
        "colab": {
          "base_uri": "https://localhost:8080/"
        },
        "outputId": "3eb3d76a-5c4e-4d49-947c-c58a72416797"
      },
      "source": [
        "class Student(Human):\n",
        "  def __init__(self,name='Anon. Student',wallet=500):\n",
        "    self.subj = [] # creates a new empty list for each Student \n",
        "    super().__init__(name,wallet) # Call methods(__init__) of the parent class(Human) from child classes(Student)\n",
        "  def learn(self, subject):\n",
        "    self.subj.append(subject) # Add an element(subject) to the list(self.subj)\n",
        "  def hello(self):\n",
        "    #print inherited attributes:\n",
        "    super().hello()\n",
        "    # print added attributes:\n",
        "    print(\"I have learned:\", self.subj, '.')\n",
        "  def teach(self, st):\n",
        "    for sb in self.subj:\n",
        "      if st.is_newsubj(sb): # st do not learn sb\n",
        "        st.learn(sb) # copy one value from st1's subj[] to st2's subj[]\n",
        "        st.give(self, 10) # st2 gives 10JPY to st1 as reward.\n",
        "        return\n",
        "  def is_newsubj( self,sb ):\n",
        "    \"\"\" check if subj is not learned \"\"\"\n",
        "    for s in self.subj:\n",
        "      if sb == s:\n",
        "        return False #Already learned\n",
        "    # No mach occured\n",
        "    return True\n",
        "#\n",
        "# Below is a test code. Expected result is:\n",
        "# Hello! My name is  John . I have  490 JPY.\n",
        "# I have learned: ['mathematics', 'history', 'biology', 'programming', 'statistics'] .\n",
        "# Hello! My name is  Jack . I have  510 JPY.\n",
        "# I have learned: ['programming', 'history', 'statistics', 'mathematics'] .\n",
        "#\n",
        "john = Student(\"John\")\n",
        "john.learn('mathematics')\n",
        "john.learn('history')\n",
        "john.learn('biology') # mathematics, history, biology\n",
        "\n",
        "jack = Student(\"Jack\")\n",
        "jack.learn('programming')\n",
        "jack.learn('history')\n",
        "jack.learn('statistics') # programming history, statistics\n",
        "\n",
        "john.teach(jack) #510 490 # programming history, statistics, mathematics\n",
        "\n",
        "jack.teach(john) #500 500 # mathematics, history, biology, programming\n",
        "jack.teach(john) #490 510 # mathematics, history, biology, programming, statistics\n",
        "jack.teach(john) #490 510 (No new subjects for john)\n",
        "\n",
        "john.teach(jack) #500 500 # programming history, statistics, mathematics, biology\n",
        "john.teach(jack) #500 500 (No new subjects for john)90\n",
        "\n",
        "for p in (john,jack):\n",
        "  p.hello()"
      ],
      "execution_count": 20,
      "outputs": [
        {
          "output_type": "stream",
          "name": "stdout",
          "text": [
            "Hello! My name is  John . I have  500 JPY.\n",
            "I have learned: ['mathematics', 'history', 'biology', 'programming', 'statistics'] .\n",
            "Hello! My name is  Jack . I have  500 JPY.\n",
            "I have learned: ['programming', 'history', 'statistics', 'mathematics', 'biology'] .\n"
          ]
        }
      ]
    }
  ]
}