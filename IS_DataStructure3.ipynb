{
  "nbformat": 4,
  "nbformat_minor": 0,
  "metadata": {
    "colab": {
      "name": "IS_DataStructure3.ipynb",
      "provenance": [],
      "collapsed_sections": [],
      "toc_visible": true,
      "include_colab_link": true
    },
    "kernelspec": {
      "name": "python3",
      "display_name": "Python 3"
    }
  },
  "cells": [
    {
      "cell_type": "markdown",
      "metadata": {
        "id": "view-in-github",
        "colab_type": "text"
      },
      "source": [
        "<a href=\"https://colab.research.google.com/github/junya-0504/homepage/blob/master/IS_DataStructure3.ipynb\" target=\"_parent\"><img src=\"https://colab.research.google.com/assets/colab-badge.svg\" alt=\"Open In Colab\"/></a>"
      ]
    },
    {
      "cell_type": "markdown",
      "metadata": {
        "id": "9XJoG2SoJwJB"
      },
      "source": [
        "# Implementing Rooted Tree in Python"
      ]
    },
    {
      "cell_type": "code",
      "metadata": {
        "id": "chcsYJUBJuDI"
      },
      "source": [
        "class Node():\n",
        "    def __init__(self,k):\n",
        "        self.key = k\n",
        "        self.parent = self.right = self.left = None\n",
        "\n",
        "class BinTree():\n",
        "    def __init__(self):\n",
        "        self.root = None\n",
        "\n",
        "    def printAll(self):\n",
        "        self.prt(self.root)\n",
        "    def prt(self,node):\n",
        "        if node == None:\n",
        "            return\n",
        "        print(node.key, end=',')\n",
        "        self.prt(node.left)\n",
        "        self.prt(node.right)\n",
        "#\n",
        "bt = BinTree()\n",
        "bt.root = Node('root')\n",
        "bt.root.left = Node('left')\n",
        "bt.root.left.parent = bt.root\n",
        "bt.root.right = Node('right') \n",
        "bt.root.right.parent = bt.root\n",
        "bt.printAll()"
      ],
      "execution_count": 7,
      "outputs": []
    },
    {
      "cell_type": "markdown",
      "metadata": {
        "id": "X00XNWCGRVM0"
      },
      "source": [
        "### Short Practice\n",
        "Compose a tree illustrated below manually.\n",
        " You don't have to make insertion method.\n",
        " Just connect by assignment one-by-one"
      ]
    },
    {
      "cell_type": "markdown",
      "metadata": {
        "id": "1R6Cd4iiRQYX"
      },
      "source": [
        "![image.png](data:image/png;base64,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)"
      ]
    },
    {
      "cell_type": "code",
      "metadata": {
        "id": "a2nJ6csrR0an",
        "colab": {
          "base_uri": "https://localhost:8080/"
        },
        "outputId": "615ca560-6e5b-4693-9708-0dbd116bc5ed"
      },
      "source": [
        "dog = Node('dog')\n",
        "panda = Node('panda')\n",
        "cat = Node('cat')\n",
        "monky = Node('monky')\n",
        "horse = Node('horse')\n",
        "rat = Node('rat')\n",
        "bt = BinTree()\n",
        "# ... connect all animals\n",
        "\n",
        "#print: result should be \"dog,panda,monky,cat,horse,rat,\"\n",
        "bt.printAll()"
      ],
      "execution_count": 2,
      "outputs": [
        {
          "output_type": "stream",
          "name": "stdout",
          "text": [
            "dog,panda,monky,cat,horse,rat,"
          ]
        }
      ]
    },
    {
      "cell_type": "markdown",
      "metadata": {
        "id": "zl54SFziUv9S"
      },
      "source": [
        "# Left-child, right-sibling representation"
      ]
    },
    {
      "cell_type": "code",
      "metadata": {
        "id": "NJ9eNSY8Uxgw",
        "colab": {
          "base_uri": "https://localhost:8080/"
        },
        "outputId": "9e641b77-5b59-4f5c-acb1-17ad5d83ddd4"
      },
      "source": [
        "class Node2():\n",
        "    def __init__(self,k):\n",
        "        self.key = k\n",
        "        self.parent = self.sibling = self.child = None\n",
        "\n",
        "class SibTree():\n",
        "    def __init__(self):\n",
        "        self.root = None\n",
        "\n",
        "    def printAll(self):\n",
        "        self.prt(self.root)\n",
        "    def prt(self,node):\n",
        "        if node == None:\n",
        "            return\n",
        "        print('[', end='')\n",
        "        print(node.key, end=',')\n",
        "        self.prt(node.sibling)\n",
        "        self.prt(node.child)\n",
        "        print(']', end='')\n",
        "#\n",
        "bt = SibTree()\n",
        "bt.root = Node2('root')\n",
        "bt.root.child = Node2('child')\n",
        "bt.root.child.parent = bt.root\n",
        "bt.root.sibling = Node2('sibling') \n",
        "bt.root.sibling.parent = bt.root\n",
        "bt.printAll()"
      ],
      "execution_count": 8,
      "outputs": [
        {
          "output_type": "stream",
          "name": "stdout",
          "text": [
            "[root,[sibling,][child,]]"
          ]
        }
      ]
    },
    {
      "cell_type": "markdown",
      "metadata": {
        "id": "Uxf354qoXFA2"
      },
      "source": [
        "### Short Practice\n",
        "Compose a tree illustrated below manually.\n",
        " You don't have to make insertion method.\n",
        " Just connect by assignment one-by-one"
      ]
    },
    {
      "cell_type": "markdown",
      "metadata": {
        "id": "mHHsd_-vWq-E"
      },
      "source": [
        "![image.png](data:image/png;base64,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)"
      ]
    },
    {
      "cell_type": "code",
      "metadata": {
        "id": "dIiAHnnYWki6"
      },
      "source": [
        "dog = Node2('dog')\n",
        "panda = Node2('panda')\n",
        "cat = Node2('cat')\n",
        "monky = Node2('monky')\n",
        "horse = Node2('horse')\n",
        "rat = Node2('rat')\n",
        "bear = Node2('bear')\n",
        "st = SibTree()\n",
        "# ... connect all animals\n",
        "\n",
        "#print: result should be \"dog,panda,cat,rat,bear,horse,monky,\"\n",
        "st.printAll()"
      ],
      "execution_count": null,
      "outputs": []
    },
    {
      "cell_type": "markdown",
      "metadata": {
        "id": "MEKErArJQpX_"
      },
      "source": [
        "# Graph Representations\n"
      ]
    },
    {
      "cell_type": "markdown",
      "metadata": {
        "id": "CZAeqxUSRBu1"
      },
      "source": [
        "## Adjacency List\n",
        "\n",
        "In this part,we use buil-in list functions.\n",
        "Adjacency list can be represented as list of list.\n",
        "If Graoph has N nodes, body is N sized list that has flexible list of adjacency from each node.\n",
        "Adding adjacency is also simple. If you want add adjaeny from node i to node j, you just append j to the tail of i-th (actually i-1) list."
      ]
    },
    {
      "cell_type": "code",
      "metadata": {
        "id": "3zonco6qRhXb",
        "colab": {
          "base_uri": "https://localhost:8080/"
        },
        "outputId": "19ffb3b7-58dc-4bb1-e360-da7eb5b4da6c"
      },
      "source": [
        "class MyGraphList:\n",
        "    def __init__(self, n):\n",
        "        self.adjbody = []\n",
        "        for i in range(n):\n",
        "            self.adjbody.append([])\n",
        "    def adj(self,v1,v2):\n",
        "        self.adjbody[v1-1].append(v2)\n",
        "\n",
        "g = MyGraphList(5)\n",
        "g.adj(1,2)\n",
        "g.adj(1,5)\n",
        "g.adj(2,1)\n",
        "g.adj(2,5)\n",
        "g.adj(2,3)\n",
        "g.adj(2,4)\n",
        "g.adj(3,2)\n",
        "g.adj(3,4)\n",
        "g.adj(4,2)\n",
        "g.adj(4,5)\n",
        "g.adj(4,3)\n",
        "g.adj(5,4)\n",
        "g.adj(5,1)\n",
        "g.adj(5,2)\n",
        "print(g.adjbody)\n"
      ],
      "execution_count": 6,
      "outputs": [
        {
          "output_type": "stream",
          "name": "stdout",
          "text": [
            "[[2, 5], [1, 5, 3, 4], [2, 4], [2, 5, 3], [4, 1, 2]]\n"
          ]
        }
      ]
    },
    {
      "cell_type": "markdown",
      "metadata": {
        "id": "nmOFcAlZjIQC"
      },
      "source": [
        "## Adjacency Maxtrix\n",
        "We just use Python's list of list for simplicity.\n",
        "Therefore, structure of the body is actually very similar to the List version. You will have N size list of N size list containing value 0 or 1. Obviously this matrix takes more size than previous representation."
      ]
    },
    {
      "cell_type": "code",
      "metadata": {
        "id": "u7Hw0rJCXmlF",
        "colab": {
          "base_uri": "https://localhost:8080/"
        },
        "outputId": "3d285bf3-b423-4ff7-bb19-7593d17eb1a0"
      },
      "source": [
        "class MyGraphMatrix:\n",
        "    def __init__(self, n):\n",
        "        self.adjbody = []\n",
        "        for i in range(n):\n",
        "            self.adjbody.append([0]*n)\n",
        "    def adj(self,v1,v2):\n",
        "        self.adjbody[v1-1][v2-1]=1\n",
        "\n",
        "g = MyGraphMatrix(5)\n",
        "g.adj(1,2)\n",
        "g.adj(1,5)\n",
        "g.adj(2,1)\n",
        "g.adj(2,5)\n",
        "g.adj(2,3)\n",
        "g.adj(2,4)\n",
        "g.adj(3,2)\n",
        "g.adj(3,4)\n",
        "g.adj(4,2)\n",
        "g.adj(4,5)\n",
        "g.adj(4,3)\n",
        "g.adj(5,4)\n",
        "g.adj(5,1)\n",
        "g.adj(5,2)\n",
        "print(g.adjbody)\n"
      ],
      "execution_count": 2,
      "outputs": [
        {
          "output_type": "stream",
          "name": "stdout",
          "text": [
            "[[0, 1, 0, 0, 1], [1, 0, 1, 1, 1], [0, 1, 0, 1, 0], [0, 1, 1, 0, 1], [1, 1, 0, 1, 0]]\n"
          ]
        }
      ]
    },
    {
      "cell_type": "markdown",
      "metadata": {
        "id": "-bHicm2ljDWT"
      },
      "source": [
        "# Mini Report\n",
        "\n",
        "Extend the MyGraphMatrix by adding two methods:\n",
        "\n",
        "1. method qadj(i,j) to judge whether thre is a path from i to j.\n",
        "> example: qadj(2,5) returns True or False\n",
        "2. method trypath(path) to verify given path is valid (traversable) or not. Path is given as a list of int.\n",
        "> example: trypath([1,2,3,4]) returns True of False"
      ]
    },
    {
      "cell_type": "code",
      "metadata": {
        "id": "hlQVclY5b5Us",
        "colab": {
          "base_uri": "https://localhost:8080/"
        },
        "outputId": "6f9ab04e-12d4-4e70-e227-5f8372cb55d9"
      },
      "source": [
        "class MyGraphMatrix2(MyGraphMatrix):\n",
        "  def qadj(self,i,j):\n",
        "    return self.adjbody[i-1][j-1] # exist path -> 1, no path -> 0\n",
        "  def trypath(self,l):\n",
        "    count = 0\n",
        "    for i in range(len(l)-1):\n",
        "      count += self.qadj(l[i],l[i+1]) # calculate number of path\n",
        "    if count == len(l)-1: # exist all path\n",
        "      return True\n",
        "    return False\n",
        " \n",
        "g = MyGraphMatrix2(5)\n",
        "g.adj(1,2)\n",
        "g.adj(1,5)\n",
        "g.adj(2,1)\n",
        "g.adj(2,5)\n",
        "g.adj(2,3)\n",
        "g.adj(2,4)\n",
        "g.adj(3,2)\n",
        "g.adj(3,4)\n",
        "g.adj(4,2)\n",
        "g.adj(4,5)\n",
        "g.adj(4,3)\n",
        "g.adj(5,4)\n",
        "g.adj(5,1)\n",
        "g.adj(5,2)\n",
        "print(g.adjbody)\n",
        "print(g.trypath([1,2,5,4,3]))\n",
        "print(g.trypath([1,3,5,4,3]))\n",
        "print(g.trypath([1,2,4,3,5]))\n",
        "print(g.trypath([1,2,4,3,2,5]))"
      ],
      "execution_count": 15,
      "outputs": [
        {
          "output_type": "stream",
          "name": "stdout",
          "text": [
            "[[0, 1, 0, 0, 1], [1, 0, 1, 1, 1], [0, 1, 0, 1, 0], [0, 1, 1, 0, 1], [1, 1, 0, 1, 0]]\n",
            "True\n",
            "False\n",
            "False\n",
            "True\n"
          ]
        }
      ]
    }
  ]
}